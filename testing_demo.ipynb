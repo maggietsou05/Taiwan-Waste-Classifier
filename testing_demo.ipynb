{
  "cells": [
    {
      "cell_type": "code",
      "execution_count": null,
      "metadata": {
        "colab": {
          "background_save": true
        },
        "id": "acMejR_j3_1T"
      },
      "outputs": [],
      "source": [
        "import tensorflow as tf\n",
        "from google.colab import drive\n",
        "\n",
        "# Step 1: Mount Google Drive\n",
        "drive.mount('/content/drive')\n",
        "\n",
        "# Step 2: Define the path to the model in the shared drive\n",
        "model_path = '/content/drive/Shared drives/ai/models/v1_model.keras'\n",
        "\n",
        "# Step 3: Load the model\n",
        "loaded_model = tf.keras.models.load_model(model_path)\n",
        "\n",
        "# Step 4: Verify the model is loaded\n",
        "loaded_model.summary()\n"
      ]
    },
    {
      "cell_type": "code",
      "execution_count": null,
      "metadata": {
        "colab": {
          "background_save": true
        },
        "id": "zvr7pywx4CF3"
      },
      "outputs": [],
      "source": [
        "import numpy as np\n",
        "import tensorflow as tf\n",
        "from tensorflow.keras.preprocessing import image\n",
        "from google.colab import files\n",
        "import matplotlib.pyplot as plt\n",
        "\n",
        "\n",
        "class_names = ['一般垃圾', '一般資源回收', '保麗龍', '塑膠袋', '廢紙','紙容器']\n",
        "\n",
        "class_messages = [\n",
        "    '一般垃圾: 請注意以下是您所需要丟棄垃圾的時間: 星期一、二、四、五、六。如果您有超大型專用垃圾袋無法容納的單件大型家戶廢棄物，請聯絡您所住地區的清潔隊，約定免費清運的時間和地點。所有投遞的垃圾包必須使用專用的垃圾袋，否則環保局將會予以處罰。如有疑問，請致電環保專線：1999。General Waste:Please note the disposal times for your general waste: Monday, Tuesday, Thursday, Friday, Saturday. If you have large household items that cannot fit into a large designated garbage bag, please contact the sanitation team in your area to arrange a free collection time and place. All garbage must be disposed of using designated garbage bags, otherwise, the Environmental Protection Bureau will impose penalties. If you have any questions, please call the Environmental Protection Hotline: 1999.',\n",
        "    '一般資源回收: 如您有此類回收，請注意以下收運時間:星期二、四、六。如有疑問，請致電環保專線：1999。General Recycling:If you have this type of recycling, please note the collection times: Tuesday, Thursday, Saturday. If you have any questions, please call the Environmental Protection Hotline: 1999.',\n",
        "    '保麗龍: 如您有此類回收，請注意以下收運時間:星期二、四、六。如有疑問，請致電環保專線：1999。Polystyrene (Styrofoam):If you have this type of recycling, please note the collection times: Tuesday, Thursday, Saturday. If you have any questions, please call the Environmental Protection Hotline: 1999.',\n",
        "    '塑膠袋: 如您有此類回收，請注意以下收運時間:星期一、五。如有疑問，請致電環保專線：1999。Plastic Bags:If you have this type of recycling, please note the collection times: Monday, Friday. If you have any questions, please call the Environmental Protection Hotline: 1999.',\n",
        "    '廢紙: 如您有此類回收，請注意以下收運時間:星期一、五。如有疑問，請致電環保專線：1999。Waste Paper:If you have this type of recycling, please note the collection times: Monday, Friday. If you have any questions, please call the Environmental Protection Hotline: 1999',\n",
        "    '紙容器: 如您有此類回收，請注意以下收運時間:星期二、四、六。如有疑問，請致電環保專線：1999。Paper Containers:If you have this type of recycling, please note the collection times: Tuesday, Thursday, Saturday. If you have any questions, please call the Environmental Protection Hotline: 1999.'\n",
        "]\n",
        "\n",
        "\n",
        "def upload_and_classify_image():\n",
        "    # 上傳照片\n",
        "    uploaded = files.upload()\n",
        "\n",
        "    for fn in uploaded.keys():\n",
        "        # load\n",
        "        path = fn\n",
        "        img = image.load_img(path, target_size=(32, 32))\n",
        "\n",
        "        # preprocess\n",
        "        img_array = image.img_to_array(img)\n",
        "        img_array = np.expand_dims(img_array, axis=0)\n",
        "        img_array /= 255.0\n",
        "\n",
        "        # prediction\n",
        "        predictions = loaded_model.predict(img_array)\n",
        "        predicted_class = np.argmax(predictions[0])\n",
        "\n",
        "        # Display the image\n",
        "        plt.imshow(img)\n",
        "        plt.axis('off')\n",
        "        plt.show()\n",
        "\n",
        "        # 分類\n",
        "        print(f'您輸入的垃圾為: {class_names[predicted_class]}')\n",
        "        print(f'{class_messages[predicted_class]}')\n",
        "upload_and_classify_image()"
      ]
    },
    {
      "cell_type": "code",
      "execution_count": null,
      "metadata": {
        "id": "Dt1LgKiPr_7A"
      },
      "outputs": [],
      "source": []
    }
  ],
  "metadata": {
    "colab": {
      "provenance": []
    },
    "kernelspec": {
      "display_name": "Python 3",
      "name": "python3"
    },
    "language_info": {
      "name": "python"
    }
  },
  "nbformat": 4,
  "nbformat_minor": 0
}